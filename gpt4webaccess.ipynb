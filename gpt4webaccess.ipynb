{
 "cells": [
  {
   "cell_type": "code",
   "execution_count": null,
   "metadata": {
    "vscode": {
     "languageId": "plaintext"
    }
   },
   "outputs": [],
   "source": [
    "from selenium import webdriver\n",
    "import json\n",
    "import time"
   ]
  },
  {
   "cell_type": "code",
   "execution_count": null,
   "metadata": {
    "vscode": {
     "languageId": "plaintext"
    }
   },
   "outputs": [],
   "source": [
    "from selenium import webdriver\n",
    "\n",
    "options = webdriver.ChromeOptions()\n",
    "options.add_argument(\"--disable-infobars\")\n",
    "options.add_argument(\"--disable-extensions\")\n",
    "options.add_experimental_option(\"prefs\", { \n",
    "    \"profile.default_content_setting_values.notifications\": 2 \n",
    "})\n",
    "options.add_argument(\"--start-maximized\")\n",
    "options.add_argument(\"--disable-blink-features=AutomationControlled\")\n",
    "options.add_argument(\"--no-sandbox\")\n",
    "options.add_argument(\"--disable-setuid-sandbox\")\n",
    "\n",
    "driver = webdriver.Chrome(options=options)\n",
    "driver.get(\"https://chat.openai.com\")\n",
    "\n",
    "input(\"Log in manually and then press Enter...\")\n",
    "\n",
    "cookies = driver.get_cookies()\n",
    "with open(\"cookies.json\", \"w\") as file:\n",
    "    json.dump(cookies, file)\n",
    "\n",
    "driver.quit()"
   ]
  },
  {
   "cell_type": "code",
   "execution_count": null,
   "metadata": {
    "vscode": {
     "languageId": "plaintext"
    }
   },
   "outputs": [],
   "source": [
    "from selenium import webdriver\n",
    "import time\n",
    "\n",
    "driver = webdriver.Chrome(options=options)\n",
    "driver.get(\"https://chat.openai.com\")\n",
    "\n",
    "time.sleep(5)\n",
    "\n",
    "driver.find_element('css selector', '#__next > div.flex.w-screen.flex-col.supports-\\[min-height\\:100dvh\\]\\:min-h-\\[100dvh\\].md\\:grid.md\\:grid-cols-2.lg\\:grid-cols-\\[60\\%_40\\%\\] > div.relative.flex.flex-col.items-center.justify-center.rounded-t-\\[30px\\].bg-white.px-5.py-8.text-black.dark\\:bg-black.dark\\:text-white.md\\:rounded-none.md\\:px-6 > div.mt-5.w-full.max-w-\\[440px\\] > div > button:nth-child(1)').click()\n",
    "\n",
    "time.sleep(2)\n",
    "\n",
    "driver.find_element('css selector', 'body > div > main > section > div > div > div > div.ce8e5451f.ca40354ec > form.c16668c3a.c9dd0addd.cce432dbd > button').click()\n",
    "\n",
    "time.sleep(5)\n",
    "\n",
    "input_element = driver.find_element(\"css selector\", \"#identifierId\")\n",
    "input_element.send_keys(\"username\")\n",
    "\n",
    "driver.find_element('css selector', '#identifierNext > div > button > span').click()\n",
    "\n",
    "time.sleep(15)\n",
    "\n",
    "input_element = driver.find_element('css selector', \"#password > div.aCsJod.oJeWuf > div > div.Xb9hP > input\")\n",
    "input_element.send_keys(\"password\")\n",
    "\n",
    "driver.find_element('css selector', '#passwordNext > div > button > span').click()\n",
    "\n",
    "# Give the page some time to load\n",
    "time.sleep(10)\n",
    "\n",
    "driver.refresh()\n",
    "\n",
    "time.sleep(10)\n",
    "\n",
    "input_element = driver.find_element('css selector', '#radix-\\:rl\\: > div.p-4.sm\\:p-6.sm\\:pt-4 > div > div.flex.flex-row.justify-end > button')\n",
    "input_element.click()\n",
    "\n",
    "# Loop 50 times to get 50 responses\n",
    "result = []\n",
    "for i in range(1,50):\n",
    "    \n",
    "    time.sleep(5)  # Wait for page to load after refreshing\n",
    "    \n",
    "    # Find the input textarea, type in the prompt \"yes\", and submit\n",
    "    input_element = driver.find_element('css selector', '#prompt-textarea')\n",
    "    input_element.send_keys(\"PROMPT YOU WANT TO REPEAT\")\n",
    "\n",
    "    submit_button = driver.find_element('css selector', 'button.absolute')\n",
    "    submit_button.click()\n",
    "\n",
    "    time.sleep(85)\n",
    "\n",
    "    # To get the correct value of j copy the xpath of the most recent response in your ChatGPT instance and look for the biggest value or the value at the below point in the xpath\n",
    "    j = 100 \n",
    "\n",
    "    # Extract the response\n",
    "    response_element = driver.find_element('xpath', f'//*[@id=\"__next\"]/div[1]/div/div/main/div/div[1]/div/div/div/div[{(2*i)+j}]')\n",
    "    response_text = response_element.text\n",
    "    print(response_text)\n",
    "    result.append(response_text)\n",
    "\n",
    "# Close the browser\n",
    "driver.quit()\n",
    "\n",
    "#If you're using GPT4, you'll have to manually reset the code every 50 prompts due to the limit of 50 messages every 3 hours"
   ]
  },
  {
   "cell_type": "code",
   "execution_count": null,
   "metadata": {
    "vscode": {
     "languageId": "plaintext"
    }
   },
   "outputs": [],
   "source": [
    "result"
   ]
  },
  {
   "cell_type": "code",
   "execution_count": null,
   "metadata": {
    "vscode": {
     "languageId": "plaintext"
    }
   },
   "outputs": [],
   "source": [
    "#Once you get all the results get them into one list\n",
    "import re\n",
    "import json\n",
    "\n",
    "# Adjusting the patterns to capture the entire response\n",
    "prompt_pattern = re.compile(r'Prompt:\\\\n(.*?)\\\\nResponse:', re.DOTALL)\n",
    "response_pattern = re.compile(r'Response:\\\\n(.*?)\\'\\s*[,|\\']', re.DOTALL)\n",
    "\n",
    "prompts = prompt_pattern.findall(repr(result_list)) # Using repr to handle the single quotes properly\n",
    "responses = response_pattern.findall(repr(result_list))\n",
    "\n",
    "# Creating a list of dictionaries containing the prompts and responses\n",
    "prompt_response_pairs = [{\"Prompt\": prompt.strip('\"'), \"Response\": response.strip('\"')} for prompt, response in zip(prompts, responses)]\n",
    "\n",
    "# Define file path\n",
    "file_path = 'prompt_response_pairs.json'\n",
    "\n",
    "# Convert the prompt-response pairs to a JSON object\n",
    "json_data = json.dumps(prompt_response_pairs)\n",
    "\n",
    "# Write the JSON object to a file\n",
    "with open(file_path, 'w') as json_file:\n",
    "    json_file.write(json_data)\n",
    "\n",
    "print(f\"File written to {file_path}\")\n"
   ]
  }
 ],
 "metadata": {
  "language_info": {
   "name": "python"
  },
  "orig_nbformat": 4
 },
 "nbformat": 4,
 "nbformat_minor": 2
}
