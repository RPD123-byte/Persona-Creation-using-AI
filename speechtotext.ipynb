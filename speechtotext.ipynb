{
 "cells": [
  {
   "attachments": {},
   "cell_type": "markdown",
   "metadata": {},
   "source": [
    "This code requires at least 16 GB of VRAM to run at a reasonable speed. This can be accessed through Google Colab or GPU Cloud Services like Runpod. Otherwise it will take far too long to run (around 20 hours)."
   ]
  },
  {
   "cell_type": "code",
   "execution_count": 1,
   "metadata": {},
   "outputs": [
    {
     "name": "stderr",
     "output_type": "stream",
     "text": [
      "2023-08-20 21:30:01.395909: I tensorflow/core/platform/cpu_feature_guard.cc:182] This TensorFlow binary is optimized to use available CPU instructions in performance-critical operations.\n",
      "To enable the following instructions: AVX2 FMA, in other operations, rebuild TensorFlow with the appropriate compiler flags.\n",
      "2023-08-20 21:30:02.349871: W tensorflow/compiler/tf2tensorrt/utils/py_utils.cc:38] TF-TRT Warning: Could not find TensorRT\n",
      "/usr/local/lib/python3.10/dist-packages/pydub/utils.py:170: RuntimeWarning: Couldn't find ffmpeg or avconv - defaulting to ffmpeg, but may not work\n",
      "  warn(\"Couldn't find ffmpeg or avconv - defaulting to ffmpeg, but may not work\", RuntimeWarning)\n"
     ]
    }
   ],
   "source": [
    "from transformers import pipeline\n",
    "from pydub import AudioSegment\n",
    "import torch\n",
    "import numpy as np\n",
    "import time\n",
    "import requests\n",
    "import re\n",
    "import os\n",
    "import gc\n",
    "import tempfile"
   ]
  },
  {
   "cell_type": "code",
   "execution_count": 3,
   "metadata": {},
   "outputs": [],
   "source": [
    "#Should be a text file with each line containing a link to a website url with an audio file\n",
    "#If you already have a collection of audio files then you can delete some parts of the code \n",
    "with open(\"link.txt\") as file:\n",
    "  podcast_links = file.readlines()"
   ]
  },
  {
   "cell_type": "code",
   "execution_count": null,
   "metadata": {},
   "outputs": [],
   "source": [
    "#Loads in the model we'll use for transcription\n",
    "device = \"cuda\"\n",
    "pipe = pipeline(\"automatic-speech-recognition\", model=\"lorenzoncina/whisper-small-en-4-epochs\", device=device)\n",
    "final_transcript_list = []"
   ]
  },
  {
   "cell_type": "code",
   "execution_count": 4,
   "metadata": {},
   "outputs": [],
   "source": [
    "import re\n",
    "\n",
    "def get_audio_file_type(url):\n",
    "    # Regular expression pattern to match .mp3 or .m4a in the URL\n",
    "    pattern = re.compile(r'\\.(mp3|m4a)(\\?|$)', re.IGNORECASE)\n",
    "    \n",
    "    # Search for the pattern in the URL\n",
    "    match = pattern.search(url)\n",
    "    \n",
    "    # If a match is found, return the file type, otherwise return 'unknown'\n",
    "    if match:\n",
    "        return match.group(1).lower()\n",
    "    else:\n",
    "        return 'unknown'\n"
   ]
  },
  {
   "cell_type": "code",
   "execution_count": null,
   "metadata": {},
   "outputs": [],
   "source": [
    "#Dowloads the audio files in chunks to process easier\n",
    "#Can bypass the chunking with enough processing power\n",
    "def download_audio(url, file_format, index):\n",
    "    audio_response = requests.get(url, stream=True)\n",
    "    with open(f'audio_file_{index}.{file_format}', 'wb') as audio_file:\n",
    "        for chunk in audio_response.iter_content(chunk_size=1024):\n",
    "            if chunk:\n",
    "                audio_file.write(chunk)\n",
    "    audio_response.close()"
   ]
  },
  {
   "cell_type": "code",
   "execution_count": null,
   "metadata": {},
   "outputs": [],
   "source": [
    "#Converts m4a files to mp3\n",
    "def convert_m4a_to_mp3(index):\n",
    "    input_filename = f\"audio_file_{index}.m4a\"\n",
    "    audio = AudioSegment.from_file(input_filename, format=\"m4a\")\n",
    "    output_filename = f\"audio_file_{index}.mp3\"\n",
    "    audio.export(output_filename, format=\"mp3\")\n",
    "    os.remove(input_filename)"
   ]
  },
  {
   "cell_type": "code",
   "execution_count": null,
   "metadata": {},
   "outputs": [],
   "source": [
    "#Where all the audio transcription actually happens\n",
    "def transcribe_audio(file_path):\n",
    "    audio = AudioSegment.from_mp3(file_path)\n",
    "    chunk_size = 45000\n",
    "    num_chunks = len(audio) // chunk_size\n",
    "    transcriptions = []\n",
    "\n",
    "    for j in range(num_chunks):\n",
    "        start_time = j * chunk_size\n",
    "        end_time = (j + 1) * chunk_size\n",
    "        chunk = audio[start_time:end_time]\n",
    "        with tempfile.NamedTemporaryFile(suffix=\".wav\") as temp_chunk:\n",
    "            chunk.export(temp_chunk.name, format=\"wav\")\n",
    "            res = pipe(temp_chunk.name)\n",
    "            transcriptions.append(res['text'])\n",
    "        del chunk\n",
    "        gc.collect()\n",
    "\n",
    "    # Process the remaining part of the audio (if any)\n",
    "    remaining_audio = len(audio) % chunk_size\n",
    "    if remaining_audio > 0:\n",
    "        start_time = num_chunks * chunk_size\n",
    "        chunk = audio[start_time:]\n",
    "        with tempfile.NamedTemporaryFile(suffix=\".wav\") as temp_chunk:\n",
    "            chunk.export(temp_chunk.name, format=\"wav\")\n",
    "            res = pipe(temp_chunk.name)\n",
    "            transcriptions.append(res['text'])\n",
    "        del chunk\n",
    "        gc.collect()\n",
    "\n",
    "    return ' '.join(transcriptions)"
   ]
  },
  {
   "cell_type": "code",
   "execution_count": null,
   "metadata": {},
   "outputs": [],
   "source": [
    "with requests.Session() as session:\n",
    "    for i, link in enumerate(podcast_links):\n",
    "        #Below commmented part is unnecessary if you already have the audio urls\n",
    "        # response = session.get(link)\n",
    "        # content = response.text\n",
    "        # response.close()\n",
    "\n",
    "        # pattern = r'\"media_url\":\"(https:\\\\/\\\\/[^\"]+\\.(mp3|m4a)[^\"]*)\"'\n",
    "        # match = re.search(pattern, content)\n",
    "\n",
    "        # if not match:\n",
    "        #     print(\"No audio URL found.\")\n",
    "        #     continue\n",
    "\n",
    "        # audio_url = match.group(1).replace(\"\\\\\", \"\")\n",
    "        # print(\"Audio URL:\", audio_url)\n",
    "        \n",
    "        file_type = get_audio_file_type(audio_url)\n",
    "        download_audio(audio_url, file_type, i)\n",
    "        print(f\"Audio downloaded as 'audio_file_{i}.{file_type}'\")\n",
    "        \n",
    "        if file_type == \"m4a\":\n",
    "            convert_m4a_to_mp3(i)\n",
    "\n",
    "        file_path = f\"audio_file_{i}.mp3\"\n",
    "        transcription = transcribe_audio(file_path)\n",
    "        final_transcript_list.append(transcription)\n",
    "        print(transcription)\n",
    "\n",
    "        os.remove(file_path)\n",
    "        print(\"File deleted successfully\")"
   ]
  },
  {
   "cell_type": "code",
   "execution_count": 6,
   "metadata": {},
   "outputs": [
    {
     "ename": "NameError",
     "evalue": "name 'final_transcript_list' is not defined",
     "output_type": "error",
     "traceback": [
      "\u001b[0;31m---------------------------------------------------------------------------\u001b[0m",
      "\u001b[0;31mNameError\u001b[0m                                 Traceback (most recent call last)",
      "Cell \u001b[0;32mIn[6], line 1\u001b[0m\n\u001b[0;32m----> 1\u001b[0m final_transcript_list\n",
      "\u001b[0;31mNameError\u001b[0m: name 'final_transcript_list' is not defined"
     ]
    }
   ],
   "source": [
    "import csv \n",
    "\n",
    "with open(\"transcribed_audio.csv\", \"w\"):\n",
    "    writer = csv.writer(file)\n",
    "    for snippet in final_transcript_list:\n",
    "        writer.writerow([snippet]) "
   ]
  }
 ],
 "metadata": {
  "kernelspec": {
   "display_name": "Python 3 (ipykernel)",
   "language": "python",
   "name": "python3"
  },
  "language_info": {
   "codemirror_mode": {
    "name": "ipython",
    "version": 3
   },
   "file_extension": ".py",
   "mimetype": "text/x-python",
   "name": "python",
   "nbconvert_exporter": "python",
   "pygments_lexer": "ipython3",
   "version": "3.10.12"
  },
  "orig_nbformat": 4
 },
 "nbformat": 4,
 "nbformat_minor": 2
}
